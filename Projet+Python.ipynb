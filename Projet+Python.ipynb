{
 "cells": [
  {
   "cell_type": "markdown",
   "metadata": {},
   "source": [
    "# Premiere Partie : le modèle simple "
   ]
  },
  {
   "cell_type": "markdown",
   "metadata": {},
   "source": [
    "On cherche ici à réaliser le modèle le plus simple possible.\n",
    "\n",
    "* On prend une population de n individus.\n",
    "* Ces individus sont connectés les uns aux autres par des liens, en réseau, générés de façon aléatoire, selon diverses distributions.\n",
    "* Parmi ces n individus, un pourcentage p est touché par une maladie.\n",
    "* La probabilité d'être touché par cette malade est d'une probabilité $\\lambda$\n",
    "* Certains individus sont immunisés contre la maladie (par un vaccin), avec une probabilité $\\mu$.\n",
    "* La probabilité de guérir sans la vaccin est de $\\eta$.\n",
    "* On suppose que, quand on est vacciné, la probabilité de tomber malade est de 0.\n",
    "\n",
    "Ces hypothèses seront par la suite assouplies\n",
    "\n",
    "Le temps t sera défini par l'utilisateur"
   ]
  },
  {
   "cell_type": "code",
   "execution_count": 2,
   "metadata": {
    "collapsed": true
   },
   "outputs": [],
   "source": [
    "import networkx as nx\n",
    "import math as math\n",
    "import random as rd\n",
    "import numpy as np\n",
    "import scipy.stats as scstat\n",
    "import matplotlib as plot\n",
    "import matplotlib.pyplot as plt"
   ]
  },
  {
   "cell_type": "code",
   "execution_count": 3,
   "metadata": {},
   "outputs": [
    {
     "name": "stdout",
     "output_type": "stream",
     "text": [
      "Taille de la population : 30\n",
      "Pourcentage initial de personnes contaminées : 0.1\n",
      "Contagiosité de la maladie : 0.4\n",
      "Poucentage de personnes vaccinées initialement : 0.5\n",
      "Probabilité que la personne guérisse sans vaccin : 0.2\n"
     ]
    }
   ],
   "source": [
    "# Création du graphe et demande des variables\n",
    "\n",
    "G = nx.Graph()\n",
    "n = int(input('Taille de la population : '))\n",
    "p_init = float(input ('Pourcentage initial de personnes contaminées : '))\n",
    "lmbda = float(input('Contagiosité de la maladie : '))\n",
    "mu = float(input('Poucentage de personnes vaccinées initialement : ')) \n",
    "eta = float(input('Probabilité que la personne guérisse sans vaccin : '))"
   ]
  },
  {
   "cell_type": "code",
   "execution_count": 4,
   "metadata": {},
   "outputs": [
    {
     "name": "stdout",
     "output_type": "stream",
     "text": [
      "30\n"
     ]
    }
   ],
   "source": [
    "print(n)"
   ]
  },
  {
   "cell_type": "code",
   "execution_count": 5,
   "metadata": {
    "collapsed": true
   },
   "outputs": [],
   "source": [
    "# Création de la liste des malades initiaux (1 si malade, 0 si sain)\n",
    "\n",
    "Population = np.random.choice([0, 1], size=(n,), p=[1-p_init, p_init])\n",
    "\n",
    "#Création de la liste des personnes vaccinées (1 tu es vacciné, 0 pas vacciné)  \n",
    "\n",
    "Population2 = np.random.choice([0, 1], size=(n,), p=[1-mu, mu])\n",
    "Population = np.concatenate((Population,Population2.T), axis = 0)\n",
    "Population = np.reshape(Population, (2,n))"
   ]
  },
  {
   "cell_type": "code",
   "execution_count": 6,
   "metadata": {
    "collapsed": true
   },
   "outputs": [],
   "source": [
    "Tmalade = np.asarray(np.zeros((n,1))) #Création de la durée de temps malade pour une personne\n",
    "\n",
    "for i in range(n):\n",
    "    if Population[0][i] == 1:\n",
    "        Tmalade[i] += 1\n",
    "    elif Population[0][i] == 1:\n",
    "        Tmalade[i] = 0\n",
    "        \n",
    "#NB : les personnes qui guérissent de la maladie sont considérées comme vaccinées "
   ]
  },
  {
   "cell_type": "code",
   "execution_count": 7,
   "metadata": {},
   "outputs": [
    {
     "name": "stdout",
     "output_type": "stream",
     "text": [
      "[(0, 0.1)]\n"
     ]
    }
   ],
   "source": [
    "# Création d'une base de données comportant le temps et la fréquence des gens malades dans la population\n",
    "\n",
    "Frequence = []\n",
    "Frequence.append((0,float(sum(Population[0])/n)))\n",
    "print(Frequence)"
   ]
  },
  {
   "cell_type": "markdown",
   "metadata": {
    "collapsed": true
   },
   "source": [
    "## Implémentation du réseau\n",
    "\n",
    "Dans cette partie, nous mettons en place un réseau généré aléatoirement par une fonction gaussienne. Les paramètres pourront être modifiés par les utilisateurs du logiciel.\n"
   ]
  },
  {
   "cell_type": "code",
   "execution_count": 16,
   "metadata": {},
   "outputs": [
    {
     "name": "stdout",
     "output_type": "stream",
     "text": [
      "Moyenne de la taille d un cluster : 10\n",
      "Probabilité de créer des liens au sein des clusters : 0.5\n",
      "Probabilité de créer des liens entre les clusters : 0.05\n",
      "Paramètre de taille (variance) : 100\n"
     ]
    }
   ],
   "source": [
    "#Création du réseau d'individus\n",
    "\n",
    "G.clear()\n",
    "\n",
    "m = float(input ('Moyenne de la taille d un cluster : '))\n",
    "p_intra = float(input ('Probabilité de créer des liens au sein des clusters : '))\n",
    "p_inter = float(input('Probabilité de créer des liens entre les clusters : '))\n",
    "v = float(input('Paramètre de taille (variance) : ')) \n",
    "\n",
    "G = nx.gaussian_random_partition_graph(n,m,v,p_intra,p_inter)\n",
    "\n",
    "#Premier paramètre : nombre de noeuds\n",
    "#Deuxième paramètre : la moyenne de la taille des clusters\n",
    "#Troisième paramètre : paramètre de taille, la variance de la taille des clusters vaut : moyenne de la taille / ce paramètre\n",
    "#Quatrième paramètre : La probabilité de créer des liens au sein des clusters\n",
    "#Cinquième paramètre : La probabilité de créer des liens entre les clusters"
   ]
  },
  {
   "cell_type": "code",
   "execution_count": 17,
   "metadata": {},
   "outputs": [
    {
     "name": "stderr",
     "output_type": "stream",
     "text": [
      "/Users/felixpasquier/anaconda/envs/py36/lib/python3.6/site-packages/networkx/drawing/nx_pylab.py:126: MatplotlibDeprecationWarning: pyplot.hold is deprecated.\n",
      "    Future behavior will be consistent with the long-time default:\n",
      "    plot commands add elements without first clearing the\n",
      "    Axes and/or Figure.\n",
      "  b = plt.ishold()\n",
      "/Users/felixpasquier/anaconda/envs/py36/lib/python3.6/site-packages/networkx/drawing/nx_pylab.py:138: MatplotlibDeprecationWarning: pyplot.hold is deprecated.\n",
      "    Future behavior will be consistent with the long-time default:\n",
      "    plot commands add elements without first clearing the\n",
      "    Axes and/or Figure.\n",
      "  plt.hold(b)\n",
      "/Users/felixpasquier/anaconda/envs/py36/lib/python3.6/site-packages/matplotlib/__init__.py:917: UserWarning: axes.hold is deprecated. Please remove it from your matplotlibrc and/or style files.\n",
      "  warnings.warn(self.msg_depr_set % key)\n",
      "/Users/felixpasquier/anaconda/envs/py36/lib/python3.6/site-packages/matplotlib/rcsetup.py:152: UserWarning: axes.hold is deprecated, will be removed in 3.0\n",
      "  warnings.warn(\"axes.hold is deprecated, will be removed in 3.0\")\n"
     ]
    },
    {
     "data": {
      "image/png": "[encoded data removed]",
      "text/plain": [
       "<matplotlib.figure.Figure at 0x10e56d588>"
      ]
     },
     "metadata": {},
     "output_type": "display_data"
    }
   ],
   "source": [
    "nx.draw(G)\n",
    "plt.show()"
   ]
  },
  {
   "cell_type": "code",
   "execution_count": 20,
   "metadata": {
    "collapsed": true
   },
   "outputs": [],
   "source": [
    "def adjacency_matrix(G, nodelist=None, weight='weight'):\n",
    "    \"\"\"Return adjacency matrix of G.\n",
    "\n",
    "    Parameters\n",
    "    ----------\n",
    "    G : graph\n",
    "       A NetworkX graph\n",
    "\n",
    "    nodelist : list, optional\n",
    "       The rows and columns are ordered according to the nodes in nodelist.\n",
    "       If nodelist is None, then the ordering is produced by G.nodes().\n",
    "\n",
    "    weight : string or None, optional (default='weight')\n",
    "       The edge data key used to provide each value in the matrix.\n",
    "       If None, then each edge has weight 1.\n",
    "\n",
    "    Returns\n",
    "    -------\n",
    "    A : SciPy sparse matrix\n",
    "      Adjacency matrix representation of G.\n",
    "\n",
    "    Notes\n",
    "    -----\n",
    "    If you want a pure Python adjacency matrix representation try\n",
    "    networkx.convert.to_dict_of_dicts which will return a\n",
    "    dictionary-of-dictionaries format that can be addressed as a\n",
    "    sparse matrix.\n",
    "\n",
    "    For MultiGraph/MultiDiGraph with parallel edges the weights are summed.\n",
    "    See to_numpy_matrix for other options.\n",
    "\n",
    "    The convention used for self-loop edges in graphs is to assign the\n",
    "    diagonal matrix entry value to the edge weight attribute\n",
    "    (or the number 1 if the edge has no weight attribute).  If the\n",
    "    alternate convention of doubling the edge weight is desired the\n",
    "    resulting Scipy sparse matrix can be modified as follows:\n",
    "\n",
    "    >>> import scipy as sp\n",
    "    >>> G = nx.Graph([(1,1)])\n",
    "    >>> A = nx.adjacency_matrix(G)\n",
    "    >>> print(A.todense())\n",
    "    [[1]]\n",
    "    >>> A.setdiag(A.diagonal()*2)\n",
    "    >>> print(A.todense())\n",
    "    [[2]]\n",
    "\n",
    "    See Also\n",
    "    --------\n",
    "    to_numpy_matrix\n",
    "    to_scipy_sparse_matrix\n",
    "    to_dict_of_dicts\n",
    "    \"\"\"\n",
    "    return nx.to_scipy_sparse_matrix(G,nodelist=nodelist,weight=weight)\n",
    "\n",
    "adj_matrix=adjacency_matrix\n",
    "\n",
    "# fixture for nose tests\n",
    "def setup_module(module):\n",
    "    from nose import SkipTest\n",
    "    try:\n",
    "        import scipy\n",
    "    except:\n",
    "        raise SkipTest(\"SciPy not available\")"
   ]
  },
  {
   "cell_type": "code",
   "execution_count": 19,
   "metadata": {
    "collapsed": true
   },
   "outputs": [],
   "source": [
    "# Function to get the adjacency matrix on the form of a numpy matrix\n",
    "\n",
    "def to_numpy_matrix(G, nodelist=None, dtype=None, order=None,\n",
    "                    multigraph_weight=sum, weight='weight'):\n",
    "    \"\"\"Return the graph adjacency matrix as a NumPy matrix.\n",
    "\n",
    "    Parameters\n",
    "    ----------\n",
    "    G : graph\n",
    "        The NetworkX graph used to construct the NumPy matrix.\n",
    "\n",
    "    nodelist : list, optional\n",
    "       The rows and columns are ordered according to the nodes in `nodelist`.\n",
    "       If `nodelist` is None, then the ordering is produced by G.nodes().\n",
    "\n",
    "    dtype : NumPy data type, optional\n",
    "        A valid single NumPy data type used to initialize the array. \n",
    "        This must be a simple type such as int or numpy.float64 and\n",
    "        not a compound data type (see to_numpy_recarray)\n",
    "        If None, then the NumPy default is used.\n",
    "\n",
    "    order : {'C', 'F'}, optional\n",
    "        Whether to store multidimensional data in C- or Fortran-contiguous\n",
    "        (row- or column-wise) order in memory. If None, then the NumPy default \n",
    "        is used.\n",
    "\n",
    "    multigraph_weight : {sum, min, max}, optional\n",
    "        An operator that determines how weights in multigraphs are handled.\n",
    "        The default is to sum the weights of the multiple edges.\n",
    "\n",
    "    weight : string or None   optional (default='weight')\n",
    "        The edge attribute that holds the numerical value used for \n",
    "        the edge weight.  If None then all edge weights are 1.\n",
    "\n",
    "\n",
    "    Returns\n",
    "    -------\n",
    "    M : NumPy matrix\n",
    "       Graph adjacency matrix.\n",
    "\n",
    "    See Also\n",
    "    --------\n",
    "    to_numpy_recarray, from_numpy_matrix\n",
    "\n",
    "    Notes\n",
    "    -----\n",
    "    The matrix entries are assigned with weight edge attribute. When\n",
    "    an edge does not have the weight attribute, the value of the entry is 1.\n",
    "    For multiple edges, the values of the entries are the sums of the edge\n",
    "    attributes for each edge.\n",
    "\n",
    "    When `nodelist` does not contain every node in `G`, the matrix is built \n",
    "    from the subgraph of `G` that is induced by the nodes in `nodelist`.\n",
    "\n",
    "    Examples\n",
    "    --------\n",
    "    >>> G = nx.MultiDiGraph()\n",
    "    >>> G.add_edge(0,1,weight=2)\n",
    "    >>> G.add_edge(1,0)\n",
    "    >>> G.add_edge(2,2,weight=3)\n",
    "    >>> G.add_edge(2,2)\n",
    "    >>> nx.to_numpy_matrix(G, nodelist=[0,1,2])\n",
    "    matrix([[ 0.,  2.,  0.],\n",
    "            [ 1.,  0.,  0.],\n",
    "            [ 0.,  0.,  4.]])\n",
    "    \"\"\"\n",
    "    try:\n",
    "        import numpy as np\n",
    "    except ImportError:\n",
    "        raise ImportError(\\\n",
    "          \"to_numpy_matrix() requires numpy: http://scipy.org/ \")\n",
    "\n",
    "    if nodelist is None:\n",
    "        nodelist = G.nodes()\n",
    "\n",
    "    nodeset = set(nodelist)\n",
    "    if len(nodelist) != len(nodeset):\n",
    "        msg = \"Ambiguous ordering: `nodelist` contained duplicates.\"\n",
    "        raise nx.NetworkXError(msg)\n",
    "\n",
    "    nlen=len(nodelist)\n",
    "    undirected = not G.is_directed()\n",
    "    index=dict(zip(nodelist,range(nlen)))\n",
    "\n",
    "    if G.is_multigraph():\n",
    "        # Handle MultiGraphs and MultiDiGraphs\n",
    "        # array of nan' to start with, any leftover nans will be converted to 0\n",
    "        # nans are used so we can use sum, min, max for multigraphs\n",
    "        M = np.zeros((nlen,nlen), dtype=dtype, order=order)+np.nan\n",
    "        # use numpy nan-aware operations\n",
    "        operator={sum:np.nansum, min:np.nanmin, max:np.nanmax}\n",
    "        try:\n",
    "            op=operator[multigraph_weight]\n",
    "        except:\n",
    "            raise ValueError('multigraph_weight must be sum, min, or max')\n",
    "\n",
    "        for u,v,attrs in G.edges_iter(data=True):\n",
    "            if (u in nodeset) and (v in nodeset):\n",
    "                i,j = index[u],index[v]\n",
    "                e_weight = attrs.get(weight, 1)\n",
    "                M[i,j] = op([e_weight,M[i,j]]) \n",
    "                if undirected:\n",
    "                    M[j,i] = M[i,j]\n",
    "        # convert any nans to zeros\n",
    "        M = np.asmatrix(np.nan_to_num(M))\n",
    "    else:\n",
    "        # Graph or DiGraph, this is much faster than above \n",
    "        M = np.zeros((nlen,nlen), dtype=dtype, order=order)\n",
    "        for u,nbrdict in G.adjacency_iter():\n",
    "            for v,d in nbrdict.items():\n",
    "                try:\n",
    "                    M[index[u],index[v]]=d.get(weight,1)\n",
    "                except KeyError:\n",
    "                    pass\n",
    "        M = np.asmatrix(M)\n",
    "    return M"
   ]
  },
  {
   "cell_type": "code",
   "execution_count": 20,
   "metadata": {},
   "outputs": [
    {
     "name": "stdout",
     "output_type": "stream",
     "text": [
      "[[ 0.  0.  0.  0.  1.  1.  1.  1.  0.  0.  0.  0.  0.  0.  0.  0.  0.  0.\n",
      "   0.  0.  0.  0.  0.  0.  0.  0.  0.  0.  0.  0.]\n",
      " [ 0.  0.  1.  0.  1.  0.  0.  0.  1.  0.  0.  0.  0.  0.  0.  0.  0.  0.\n",
      "   0.  0.  0.  0.  0.  0.  0.  0.  0.  0.  0.  1.]\n",
      " [ 0.  1.  0.  1.  0.  0.  1.  1.  1.  0.  1.  0.  0.  0.  0.  0.  0.  0.\n",
      "   0.  0.  0.  0.  0.  0.  0.  0.  0.  0.  1.  0.]\n",
      " [ 0.  0.  1.  0.  1.  1.  0.  1.  0.  0.  1.  0.  0.  0.  0.  0.  0.  0.\n",
      "   0.  0.  0.  0.  0.  0.  0.  0.  0.  0.  1.  0.]\n",
      " [ 1.  1.  0.  1.  0.  1.  0.  0.  0.  1.  0.  0.  0.  0.  0.  0.  0.  0.\n",
      "   0.  0.  0.  0.  0.  0.  0.  0.  0.  1.  0.  0.]\n",
      " [ 1.  0.  0.  1.  1.  0.  0.  0.  0.  0.  1.  0.  0.  0.  0.  1.  0.  0.\n",
      "   0.  0.  1.  0.  0.  0.  0.  0.  0.  0.  0.  0.]\n",
      " [ 1.  0.  1.  0.  0.  0.  0.  1.  1.  0.  0.  0.  0.  0.  0.  0.  0.  0.\n",
      "   0.  0.  0.  0.  0.  0.  0.  0.  0.  0.  0.  0.]\n",
      " [ 1.  0.  1.  1.  0.  0.  1.  0.  0.  1.  0.  0.  0.  0.  0.  0.  0.  0.\n",
      "   0.  0.  0.  0.  0.  1.  0.  1.  0.  0.  0.  0.]\n",
      " [ 0.  1.  1.  0.  0.  0.  1.  0.  0.  0.  0.  0.  0.  0.  0.  0.  0.  0.\n",
      "   0.  0.  0.  0.  0.  0.  0.  0.  0.  0.  0.  0.]\n",
      " [ 0.  0.  0.  0.  1.  0.  0.  1.  0.  0.  1.  0.  0.  0.  0.  0.  0.  0.\n",
      "   0.  0.  0.  0.  0.  0.  0.  0.  0.  0.  0.  0.]\n",
      " [ 0.  0.  1.  1.  0.  1.  0.  0.  0.  1.  0.  0.  0.  0.  0.  0.  0.  0.\n",
      "   0.  0.  0.  0.  0.  0.  0.  0.  0.  0.  0.  0.]\n",
      " [ 0.  0.  0.  0.  0.  0.  0.  0.  0.  0.  0.  0.  1.  1.  0.  0.  0.  0.\n",
      "   1.  0.  0.  0.  0.  0.  0.  0.  0.  0.  0.  0.]\n",
      " [ 0.  0.  0.  0.  0.  0.  0.  0.  0.  0.  0.  1.  0.  1.  1.  0.  0.  0.\n",
      "   0.  0.  1.  0.  0.  0.  0.  0.  0.  0.  0.  0.]\n",
      " [ 0.  0.  0.  0.  0.  0.  0.  0.  0.  0.  0.  1.  1.  0.  0.  1.  0.  1.\n",
      "   1.  1.  1.  0.  0.  0.  0.  0.  0.  0.  0.  0.]\n",
      " [ 0.  0.  0.  0.  0.  0.  0.  0.  0.  0.  0.  0.  1.  0.  0.  0.  1.  1.\n",
      "   1.  0.  1.  0.  0.  0.  0.  0.  0.  0.  0.  0.]\n",
      " [ 0.  0.  0.  0.  0.  1.  0.  0.  0.  0.  0.  0.  0.  1.  0.  0.  1.  0.\n",
      "   0.  1.  0.  0.  0.  0.  0.  0.  0.  0.  0.  0.]\n",
      " [ 0.  0.  0.  0.  0.  0.  0.  0.  0.  0.  0.  0.  0.  0.  1.  1.  0.  0.\n",
      "   1.  1.  0.  0.  0.  0.  0.  0.  0.  1.  0.  0.]\n",
      " [ 0.  0.  0.  0.  0.  0.  0.  0.  0.  0.  0.  0.  0.  1.  1.  0.  0.  0.\n",
      "   1.  1.  1.  0.  0.  0.  0.  0.  0.  0.  0.  0.]\n",
      " [ 0.  0.  0.  0.  0.  0.  0.  0.  0.  0.  0.  1.  0.  1.  1.  0.  1.  1.\n",
      "   0.  0.  1.  0.  0.  0.  0.  0.  0.  0.  0.  0.]\n",
      " [ 0.  0.  0.  0.  0.  0.  0.  0.  0.  0.  0.  0.  0.  1.  0.  1.  1.  1.\n",
      "   0.  0.  0.  0.  0.  0.  0.  0.  0.  0.  0.  0.]\n",
      " [ 0.  0.  0.  0.  0.  1.  0.  0.  0.  0.  0.  0.  1.  1.  1.  0.  0.  1.\n",
      "   1.  0.  0.  0.  0.  0.  0.  0.  0.  0.  0.  0.]\n",
      " [ 0.  0.  0.  0.  0.  0.  0.  0.  0.  0.  0.  0.  0.  0.  0.  0.  0.  0.\n",
      "   0.  0.  0.  0.  1.  0.  0.  0.  1.  0.  0.  0.]\n",
      " [ 0.  0.  0.  0.  0.  0.  0.  0.  0.  0.  0.  0.  0.  0.  0.  0.  0.  0.\n",
      "   0.  0.  0.  1.  0.  0.  0.  0.  1.  0.  1.  0.]\n",
      " [ 0.  0.  0.  0.  0.  0.  0.  1.  0.  0.  0.  0.  0.  0.  0.  0.  0.  0.\n",
      "   0.  0.  0.  0.  0.  0.  1.  1.  0.  1.  0.  0.]\n",
      " [ 0.  0.  0.  0.  0.  0.  0.  0.  0.  0.  0.  0.  0.  0.  0.  0.  0.  0.\n",
      "   0.  0.  0.  0.  0.  1.  0.  1.  1.  1.  1.  0.]\n",
      " [ 0.  0.  0.  0.  0.  0.  0.  1.  0.  0.  0.  0.  0.  0.  0.  0.  0.  0.\n",
      "   0.  0.  0.  0.  0.  1.  1.  0.  0.  0.  0.  0.]\n",
      " [ 0.  0.  0.  0.  0.  0.  0.  0.  0.  0.  0.  0.  0.  0.  0.  0.  0.  0.\n",
      "   0.  0.  0.  1.  1.  0.  1.  0.  0.  1.  0.  0.]\n",
      " [ 0.  0.  0.  0.  1.  0.  0.  0.  0.  0.  0.  0.  0.  0.  0.  0.  1.  0.\n",
      "   0.  0.  0.  0.  0.  1.  1.  0.  1.  0.  1.  0.]\n",
      " [ 0.  0.  1.  1.  0.  0.  0.  0.  0.  0.  0.  0.  0.  0.  0.  0.  0.  0.\n",
      "   0.  0.  0.  0.  1.  0.  1.  0.  0.  1.  0.  0.]\n",
      " [ 0.  1.  0.  0.  0.  0.  0.  0.  0.  0.  0.  0.  0.  0.  0.  0.  0.  0.\n",
      "   0.  0.  0.  0.  0.  0.  0.  0.  0.  0.  0.  0.]]\n"
     ]
    }
   ],
   "source": [
    "M = to_numpy_matrix(G)\n",
    "print(M)"
   ]
  },
  {
   "cell_type": "markdown",
   "metadata": {},
   "source": [
    "## Début du processus dynamique "
   ]
  },
  {
   "cell_type": "code",
   "execution_count": 26,
   "metadata": {},
   "outputs": [
    {
     "name": "stdout",
     "output_type": "stream",
     "text": [
      "Temps t : 20\n"
     ]
    }
   ],
   "source": [
    "#Demande du temps d'etude\n",
    "\n",
    "t = int(input('Temps t : '))\n",
    "\n",
    "\n",
    "# Première étape : vérification de la commande\n",
    "\n",
    "#Transmission de la maladie\n",
    "for l in range(t):\n",
    "    for i in range(len(M)):\n",
    "        for j in range (i,len(M)):\n",
    "            if np.asarray(M)[i][j] == 1:\n",
    "                if Population[0][i] == 1 & Population[0][j] == 0:\n",
    "                    if Population[1][j] == 0:\n",
    "                        Population[0][j] = int(np.random.binomial(1,lmbda))\n",
    "                if Population[0][i] == 0 & Population[0][j] == 1:\n",
    "                    if Population[1][i] == 0:\n",
    "                        Population[0][i] = int(np.random.binomial(1,lmbda))\n",
    "#Possibilité d'une guérison sans vaccin\n",
    "        if Population[0][i] == 1 & int(Tmalade[i]) != 0:\n",
    "            Population[0][i] = int(np.random.binomial(1,1-eta))\n",
    "            if Population[0][i] == 0:\n",
    "                Population[1][i] = 1 \n",
    "#Mise à jour de la base de données sur la convalescence.        \n",
    "    for i in range(n):\n",
    "        if Population[0][i] == 1:\n",
    "            Tmalade[i] += 1\n",
    "        elif Population[0][i] == 0:\n",
    "            Tmalade[i] = 0\n",
    "#On ajoute les points pour mesurer la fréquence des gens malades\n",
    "    Frequence.append((0,float(sum(Population[0])/n)))"
   ]
  },
  {
   "cell_type": "markdown",
   "metadata": {},
   "source": [
    "Ce que l'on pourrait ajouter à long-terme :\n",
    "\n",
    "* Créer un tableau de fréquence de la population touchée par la maladie : OK (à améliorer)\n",
    "    *  Prendre en compte le nombre de personnes qui a été contaminées en tout (proportion des gens qui ont, un moment donné, été malade pendant l'épidémie. Meilleur indicateur pour comprendre l'étendue de l'épidémie. Tout le monde sera guéri à LT dans ce modèle. \n",
    "\n",
    "* Faire un réseau dynamique avec :\n",
    "    * Les personnes meurent (à cause de la maladie)\n",
    "        * Créer un paramètre de probabilité de décès du fait de la maladie\n",
    "    * De nouveaux liens se créent ou se détruisent entre les personnes \n",
    "        * Des liens forts et des liens faibles (liens forts ne bougent pas, mais la probabilité de contamination reste pareille)\n",
    "        * Mettre des probabilités différentes (liens fortes = probabilité plus forte de tomber malade).\n",
    "\n",
    "* Modifier la formation du réseau"
   ]
  },
  {
   "cell_type": "code",
   "execution_count": 27,
   "metadata": {},
   "outputs": [
    {
     "data": {
      "image/png": "[encoded data removed]",
      "text/plain": [
       "<matplotlib.figure.Figure at 0x10e101a20>"
      ]
     },
     "metadata": {},
     "output_type": "display_data"
    }
   ],
   "source": [
    "plt.plot(Frequence)\n",
    "plt.show()"
   ]
  },
  {
   "cell_type": "code",
   "execution_count": 97,
   "metadata": {},
   "outputs": [
    {
     "data": {
      "text/plain": [
       "numpy.ndarray"
      ]
     },
     "execution_count": 97,
     "metadata": {},
     "output_type": "execute_result"
    }
   ],
   "source": [
    "type(Tmalade[1])"
   ]
  },
  {
   "cell_type": "markdown",
   "metadata": {
    "collapsed": true
   },
   "source": [
    "# Deuxième partie : un modèle plus complexe (dynamique) "
   ]
  },
  {
   "cell_type": "code",
   "execution_count": null,
   "metadata": {
    "collapsed": true
   },
   "outputs": [],
   "source": []
  }
 ],
 "metadata": {
  "kernelspec": {
   "display_name": "Python [conda env:py36]",
   "language": "python",
   "name": "conda-env-py36-py"
  },
  "language_info": {
   "codemirror_mode": {
    "name": "ipython",
    "version": 3
   },
   "file_extension": ".py",
   "mimetype": "text/x-python",
   "name": "python",
   "nbconvert_exporter": "python",
   "pygments_lexer": "ipython3",
   "version": "3.6.1"
  }
 },
 "nbformat": 4,
 "nbformat_minor": 2
}

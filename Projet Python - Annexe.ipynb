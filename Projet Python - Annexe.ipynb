{
 "cells": [
  {
   "cell_type": "markdown",
   "metadata": {},
   "source": [
    "# Annexe : le modèle de départ, en utilisant les matrices"
   ]
  },
  {
   "cell_type": "markdown",
   "metadata": {},
   "source": [
    "On cherche ici à réaliser le modèle le plus simple possible.\n",
    "\n",
    "* On prend une population de n individus.\n",
    "* Ces individus sont connectés les uns aux autres par des liens, en réseau, générés de façon aléatoire, selon diverses distributions.\n",
    "* Parmi ces n individus, un pourcentage p est touché par une maladie.\n",
    "* La probabilité d'être touché par cette malade est d'une probabilité $\\lambda$\n",
    "* Certains individus sont immunisés contre la maladie (par un vaccin), avec une probabilité $\\mu$.\n",
    "* La probabilité de guérir sans la vaccin est de $\\eta$.\n",
    "* On suppose que, quand on est vacciné, la probabilité de tomber malade est de 0.\n",
    "\n",
    "Ces hypothèses seront par la suite assouplies\n",
    "\n",
    "Le temps t sera défini par l'utilisateur"
   ]
  },
  {
   "cell_type": "code",
   "execution_count": 2,
   "metadata": {
    "collapsed": true
   },
   "outputs": [],
   "source": [
    "import networkx as nx\n",
    "import math as math\n",
    "import random as rd\n",
    "import numpy as np\n",
    "import scipy.stats as scstat\n",
    "import matplotlib as plot\n",
    "import matplotlib.pyplot as plt"
   ]
  },
  {
   "cell_type": "code",
   "execution_count": 108,
   "metadata": {},
   "outputs": [
    {
     "name": "stdout",
     "output_type": "stream",
     "text": [
      "Taille de la population : 200\n",
      "Pourcentage initial de personnes contaminées : 0.01\n",
      "Contagiosité de la maladie : 0.5\n",
      "Poucentage de personnes vaccinées initialement : 0.4\n",
      "Probabilité que la personne guérisse sans vaccin : 0.5\n",
      "Probabilité de deces suite a la maladie : 0.5\n"
     ]
    }
   ],
   "source": [
    "# Création du graphe et demande des variables\n",
    "\n",
    "G = nx.Graph()\n",
    "n = int(input('Taille de la population : '))\n",
    "p_init = float(input ('Pourcentage initial de personnes contaminées : '))\n",
    "lmbda = float(input('Contagiosité de la maladie : '))\n",
    "mu = float(input('Poucentage de personnes vaccinées initialement : ')) \n",
    "eta = float(input('Probabilité que la personne guérisse sans vaccin : '))\n",
    "rho = float(input('Probabilité de deces suite a la maladie : '))"
   ]
  },
  {
   "cell_type": "code",
   "execution_count": 138,
   "metadata": {
    "collapsed": true
   },
   "outputs": [],
   "source": [
    "# Création de la liste des malades initiaux (1 si malade, 0 si sain)\n",
    "\n",
    "Population = np.random.choice([0, 1], size=(n,), p=[1-p_init, p_init])\n",
    "\n",
    "#Création de la liste des personnes vaccinées (1 tu es vacciné, 0 pas vacciné)  \n",
    "\n",
    "Population2 = np.random.choice([0, 1], size=(n,), p=[1-mu, mu])\n",
    "Population = np.concatenate((Population,Population2.T), axis = 0)\n",
    "Population = np.reshape(Population, (2,n))"
   ]
  },
  {
   "cell_type": "code",
   "execution_count": 139,
   "metadata": {
    "collapsed": true
   },
   "outputs": [],
   "source": [
    "Tmalade = np.asarray(np.zeros((n,1))) #Création de la durée de temps malade pour une personne\n",
    "\n",
    "for i in range(n):\n",
    "    if Population[0][i] == 1:\n",
    "        Tmalade[i] += 1\n",
    "    elif Population[0][i] == 1:\n",
    "        Tmalade[i] = 0\n",
    "        \n",
    "#NB : les personnes qui guérissent de la maladie sont considérées comme vaccinées "
   ]
  },
  {
   "cell_type": "code",
   "execution_count": 140,
   "metadata": {},
   "outputs": [
    {
     "name": "stdout",
     "output_type": "stream",
     "text": [
      "[(0, 0.01)]\n"
     ]
    }
   ],
   "source": [
    "# Création d'une base de données comportant le temps et la fréquence des gens malades dans la population\n",
    "\n",
    "Frequence = []\n",
    "Frequence.append((0,float(sum(Population[0])/n)))\n",
    "print(Frequence)"
   ]
  },
  {
   "cell_type": "markdown",
   "metadata": {
    "collapsed": true
   },
   "source": [
    "## Implémentation du réseau\n",
    "\n",
    "Dans cette partie, nous mettons en place un réseau généré aléatoirement par une fonction gaussienne. Les paramètres pourront être modifiés par les utilisateurs du logiciel.\n"
   ]
  },
  {
   "cell_type": "code",
   "execution_count": 231,
   "metadata": {},
   "outputs": [
    {
     "name": "stdout",
     "output_type": "stream",
     "text": [
      "Moyenne de la taille d un cluster : 50\n",
      "Probabilité de créer des liens au sein des clusters : 0.5\n",
      "Probabilité de créer des liens entre les clusters : 0.1\n",
      "Paramètre de taille (variance) : 100000\n"
     ]
    }
   ],
   "source": [
    "#Création du réseau d'individus\n",
    "\n",
    "G.clear()\n",
    "\n",
    "m = float(input ('Moyenne de la taille d un cluster : '))\n",
    "p_intra = float(input ('Probabilité de créer des liens au sein des clusters : '))\n",
    "p_inter = float(input('Probabilité de créer des liens entre les clusters : '))\n",
    "v = float(input('Paramètre de taille (variance) : ')) \n",
    "\n",
    "G = nx.gaussian_random_partition_graph(n,m,v,p_intra,p_inter)\n",
    "\n",
    "#Premier paramètre : nombre de noeuds\n",
    "#Deuxième paramètre : la moyenne de la taille des clusters\n",
    "#Troisième paramètre : paramètre de taille, la variance de la taille des clusters vaut : moyenne de la taille / ce paramètre\n",
    "#Quatrième paramètre : La probabilité de créer des liens au sein des clusters\n",
    "#Cinquième paramètre : La probabilité de créer des liens entre les clusters"
   ]
  },
  {
   "cell_type": "code",
   "execution_count": 143,
   "metadata": {},
   "outputs": [
    {
     "name": "stdout",
     "output_type": "stream",
     "text": [
      "[[ 0.  0.  0. ...,  0.  0.  0.]\n",
      " [ 0.  0.  1. ...,  0.  0.  1.]\n",
      " [ 0.  1.  0. ...,  0.  0.  0.]\n",
      " ..., \n",
      " [ 0.  0.  0. ...,  0.  0.  0.]\n",
      " [ 0.  0.  0. ...,  0.  0.  0.]\n",
      " [ 0.  1.  0. ...,  0.  0.  0.]]\n"
     ]
    }
   ],
   "source": [
    "M = to_numpy_matrix(G)\n",
    "print(M)"
   ]
  },
  {
   "cell_type": "markdown",
   "metadata": {},
   "source": [
    "## Début du processus dynamique "
   ]
  },
  {
   "cell_type": "code",
   "execution_count": 145,
   "metadata": {
    "scrolled": true
   },
   "outputs": [
    {
     "name": "stdout",
     "output_type": "stream",
     "text": [
      "Temps t : 10\n"
     ]
    }
   ],
   "source": [
    "#Demande du temps d'etude\n",
    "\n",
    "t = int(input('Temps t : '))\n",
    "\n",
    "\n",
    "# Première étape : vérification de la commande\n",
    "\n",
    "#Transmission de la maladie\n",
    "for l in range(t):\n",
    "    for i in range(len(M)):\n",
    "        for j in range (i,len(M)):\n",
    "            if np.asarray(M)[i][j] == 1:\n",
    "                if Population[0][i] == 1 & Population[0][j] == 0:\n",
    "                    if Population[1][j] == 0:\n",
    "                        Population[0][j] = int(np.random.binomial(1,lmbda))\n",
    "                if Population[0][i] == 0 & Population[0][j] == 1:\n",
    "                    if Population[1][i] == 0:\n",
    "                        Population[0][i] = int(np.random.binomial(1,lmbda))\n",
    "#Possibilité d'une guérison sans vaccin\n",
    "        if Population[0][i] == 1 & int(Tmalade[i]) != 0:\n",
    "            Population[0][i] = int(np.random.binomial(1,1-eta))\n",
    "            if Population[0][i] == 0:\n",
    "                Population[1][i] = 1 \n",
    "#Mise à jour des décès            \n",
    "    death_row_node = []\n",
    "    death_row_index = []\n",
    "    v = 0\n",
    "    for i in G.nodes():\n",
    "        if int(Tmalade[v]) != 0:\n",
    "            k = int(np.random.binomial(1,rho))\n",
    "            if k == 1:\n",
    "                death_row_node.append(i)\n",
    "                death_row_index.append(v)\n",
    "        v = v+1         \n",
    "#Mise à jour de la base de données sur la convalescence.        \n",
    "    for i in range(len(M)):\n",
    "        if Population[0][i] == 1:\n",
    "            Tmalade[i] += 1\n",
    "        elif Population[0][i] == 0:\n",
    "            Tmalade[i] = 0\n",
    "#Mise à jour des matrices en tenant compte des décès          \n",
    "    G.remove_nodes_from(death_row_node)\n",
    "    death_row_index.reverse()\n",
    "    for i in death_row_index:\n",
    "        Population = np.delete(Population,(i), axis=1)\n",
    "        Tmalade = np.delete(Tmalade,(i), axis=0) \n",
    "    M = to_numpy_matrix(G)"
   ]
  }
 ],
 "metadata": {
  "kernelspec": {
   "display_name": "Python [conda env:py36]",
   "language": "python",
   "name": "conda-env-py36-py"
  },
  "language_info": {
   "codemirror_mode": {
    "name": "ipython",
    "version": 3
   },
   "file_extension": ".py",
   "mimetype": "text/x-python",
   "name": "python",
   "nbconvert_exporter": "python",
   "pygments_lexer": "ipython3",
   "version": "3.6.1"
  }
 },
 "nbformat": 4,
 "nbformat_minor": 2
}
